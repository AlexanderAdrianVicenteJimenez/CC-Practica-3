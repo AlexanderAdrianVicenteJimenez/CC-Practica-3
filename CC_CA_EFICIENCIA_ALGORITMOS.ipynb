{
  "nbformat": 4,
  "nbformat_minor": 0,
  "metadata": {
    "colab": {
      "name": "CC-CA-EFICIENCIA ALGORITMOS.ipynb",
      "provenance": [],
      "collapsed_sections": []
    },
    "kernelspec": {
      "name": "python3",
      "display_name": "Python 3"
    },
    "language_info": {
      "name": "python"
    }
  },
  "cells": [
    {
      "cell_type": "markdown",
      "source": [
        "#**Práctica N3**\n",
        "* **Nombre :** Alexander Vicente\n",
        "* **Ciclo :** 4 B\n",
        "\n",
        "#**Eficiencia de Algoritmos**\n",
        "###**Complejidad de un algoritmo**\n",
        "Para medir la eficiencia de un algoritmo se debe tener en cuenta:\n",
        "* Los recursos necesarios para su ejecucion\n",
        "\n",
        "Un método para medir la eficiencia de un algoritmo no depende:\n",
        "\n",
        "*   del ordenador donde se ejecute.\n",
        "*   del lenguaje de programacion que este codificado.\n",
        "*   del sistema operativo donde se ejecute\n",
        "*   de otros factores externos al propio algoritmo.\n",
        "\n",
        "depende únicamente del desempeño del algoritmo en sí mismo.\n",
        "\n",
        "\n",
        "**Ejemplo de suma lineal y suma constante :**\n",
        "\n"
      ],
      "metadata": {
        "id": "y1JD2Ct9cMIR"
      }
    },
    {
      "cell_type": "code",
      "source": [
        "import time\n",
        "\n",
        "def suma_lineal(n):\n",
        "  sumaL = 0\n",
        "  for i in range(1, n+1):\n",
        "    sumaL += i \n",
        "\n",
        "  return sumaL\n",
        "\n",
        "def suma_constante(n):\n",
        "  \n",
        "   return (n/2) * (n+1)\n",
        "  \n",
        "cantidad = 1000000\n",
        "\n",
        "for i in range(4):\n",
        "\n",
        "  t0 = time.time()\n",
        "\n",
        "  suma1 = suma_lineal(cantidad)\n",
        "  \n",
        "  t1 = time.time()\n",
        "\n",
        "  suma2 =suma_constante(cantidad)\n",
        "\n",
        "  t2 = time.time()\n",
        "\n",
        "  print(\"{}  - {}\".format(suma1, t1-t0))\n",
        "  print(\"{}  - {}\".format(suma2, t2-t1))\n",
        "\n",
        "  cantidad *= 10"
      ],
      "metadata": {
        "colab": {
          "base_uri": "https://localhost:8080/"
        },
        "id": "2CbHlQkLdsj_",
        "outputId": "66187437-89ee-423f-8812-2b3d0e4bd06a"
      },
      "execution_count": null,
      "outputs": [
        {
          "output_type": "stream",
          "name": "stdout",
          "text": [
            "500000500000  - 0.0807955265045166\n",
            "500000500000.0  - 3.814697265625e-06\n",
            "50000005000000  - 0.6996617317199707\n",
            "50000005000000.0  - 4.5299530029296875e-06\n",
            "5000000050000000  - 6.869781255722046\n",
            "5000000050000000.0  - 4.0531158447265625e-06\n",
            "500000000500000000  - 68.29960823059082\n",
            "5.000000005e+17  - 4.0531158447265625e-06\n"
          ]
        }
      ]
    },
    {
      "cell_type": "markdown",
      "source": [
        "###**Notación asintótica**\n",
        "La Notación asintótica permite representar de una forma general la cantidad de instrucciones que requiere un algoritmo para una cantidad n de datos de entrada.\n",
        "\n",
        "Existen varios tipos de Notación asintótica\n",
        "* O grande (omicron) - El peor de los casos\n",
        "* Ω grande (omega) - El mejor de los casos \n",
        "* Θ grande (theta) - El caso promedio\n",
        "\n",
        "Para distinguir un algoritmo de otro interesa el comportamiento de un algoritmo a medida que crece el numero de datos de entrada (n), si el crecimiento del algoritmo es muy grande los tiempos de ejecución serian tan grandes que volveria al algoritmo inpracticable.\n",
        "\n",
        "<figure>\n",
        "<center>\n",
        "<img src='https://github.com/AlexanderAdrianVicenteJimenez/CC-Practica-3/blob/main/src/notacion.png?raw=true' />\n",
        "</center>\n",
        "</figure>\n",
        "\n",
        "\n",
        "La medida de eficiencia de un algoritmo, se lo puede aplicar en dos aspectos:\n",
        "\n",
        "* **Complejidad temporal:** refiere al tiempo de ejecución.\n",
        "* **Complejidad Espacial:** refiere a la cantidad de memoria utilizada.\n",
        "\n",
        "Con el análisis asintótico de un algoritmo nos referiremos al comportamiento de este algoritmo cuando la cantidad de datos de entrada crecen.\n",
        "\n",
        "* La complejidad de tiempo cuando la cantidad de datos de entrada crecen, pero el numero de instrucciones no crece se denomina **complejidad Constante O(1)**\n",
        "\n",
        "* La complejidad de tiempo cuando la cantidad de datos de entrada crecen, y el numero de instrucciones también crece se denomina **complejidad Lineal O(n)**\n",
        "\n",
        "<figure>\n",
        "<center>\n",
        "<img src='https://raw.githubusercontent.com/AlexanderAdrianVicenteJimenez/CC-Practica-3/d3463bfaf60fb50941f4487c21e180078c73c730/src/imagen_2022-02-11_165501.png' />\n",
        "</center>\n",
        "</figure>\n",
        "\n",
        "\n",
        "#**Notación O Grande**\n",
        "\n",
        "El siguiente algoritmo busca un elemento en una lista."
      ],
      "metadata": {
        "id": "7Awx2FUJjdXg"
      }
    },
    {
      "cell_type": "code",
      "source": [
        "lista_datos = [14, 26, 39, 25, 11, 18, 42, 31, 17, 23]\n",
        "dato_buscado = 31\n",
        "\n",
        "def busqueda_lineal (lista, buscar):\n",
        "  for elemento in lista:\n",
        "     if elemento == buscar:\n",
        "        return True\n",
        "  return False\n",
        "\n",
        "if busqueda_lineal (lista_datos, dato_buscado):\n",
        "  print(\"Dato encontrado\")\n",
        "else:\n",
        "  print(\"Dato no encontrado\")"
      ],
      "metadata": {
        "colab": {
          "base_uri": "https://localhost:8080/"
        },
        "id": "RUJzk25py9q0",
        "outputId": "4777b1d7-de5a-4220-ce06-ab89b8cb55b2"
      },
      "execution_count": 35,
      "outputs": [
        {
          "output_type": "stream",
          "name": "stdout",
          "text": [
            "Dato encontrado\n"
          ]
        }
      ]
    },
    {
      "cell_type": "markdown",
      "source": [
        "* Si el dato buscado se encuentra al inicio de la lista sera el mejor de los casos , debido a que el algoritmo ejecutara 1 instrucción porque la cantidad de datos de entrada(n) solo es 1.\n",
        "* Por el contrario ,si el dato buscado se encuentra al final de la lista sera el peor de los casos , debido a que el algoritmo ejecutara n instrucciones porque la cantidad de datos de entrada(n) es n.\n",
        "\n",
        "Tomando como ejemplo el primer algoritmo."
      ],
      "metadata": {
        "id": "lvnqggRGzojS"
      }
    },
    {
      "cell_type": "code",
      "source": [
        "def suma_lineal(n):     \n",
        "  sumaL = 0\n",
        "  for i in range(1, n+1):    #El número de instrucciones crece a medida que la cantidad de datos de entrada aumenten.\n",
        "    sumaL += i               #Por lo que este algoritmo tiene una complejidad temporal lineal de O(n).\n",
        "\n",
        "  return sumaL\n",
        "\n",
        "def suma_constante(n):\n",
        "  \n",
        "   return (n/2) * (n+1)     #El número de instrucciones es 1 , sin importar  que la cantidad de datos de entrada aumenten.\n",
        "                            #Por lo que este algoritmo tiene una complejidad temporal constante de O(1)."
      ],
      "metadata": {
        "id": "v6EMFhDr0807"
      },
      "execution_count": null,
      "outputs": []
    },
    {
      "cell_type": "markdown",
      "source": [
        "#**Complejidad Cuadrática y Polinomial**\n",
        "\n",
        "A medida que aumenta la cantidad de datos, el número de operaciones crece de forma exponencial. Dos ciclos anidados generan una complejidad O(n^2), tres ciclos anidados O(n^3) y así sucesivamente, esto se denomina complejidad polinomial.\n",
        "\n",
        "\n",
        "El siguiente algoritmo suma dos números de la lista para saber si se obtiene un resultado dado.\n"
      ],
      "metadata": {
        "id": "92MwCoNF4bA5"
      }
    },
    {
      "cell_type": "code",
      "source": [
        "cantidades = [12, 23, 41, 36, 28, 54, 35, 46, 52, 19, 27]\n",
        "numero = 74\n",
        "def suma_dos (lista, valor):\n",
        "# Comprueba si la suma de dos números (se pueden repetir) de una lista tiene un resultado dado#\n",
        "#Tendremos n operaciones por n operaciones.\n",
        "  pares = []\n",
        "  for i in lista:  #Se recorre el primer número\n",
        "      for j in lista: #Recorre todos los demás números de la lista\n",
        "        if i + j == valor: \n",
        "          pares.append([i,j])\n",
        "  return pares\n",
        "\n",
        "print(suma_dos(cantidades,numero))\n",
        "\n",
        "#\n"
      ],
      "metadata": {
        "colab": {
          "base_uri": "https://localhost:8080/"
        },
        "id": "qO1j-FEG4-gl",
        "outputId": "a1d500c6-b36d-420c-c9bf-0dcaed02bb94"
      },
      "execution_count": 36,
      "outputs": [
        {
          "output_type": "stream",
          "name": "stdout",
          "text": [
            "[[28, 46], [46, 28]]\n"
          ]
        }
      ]
    },
    {
      "cell_type": "markdown",
      "source": [
        "Si se descarta las operaciones constantes , el orden de complejidad del algoritmo sera  de O(n^2).\n",
        "\n",
        "#**Búsqueda Binaria**\n",
        "La búsqueda binaria tiene un orden de complejidad de O(log n).\n",
        "\n",
        "<figure>\n",
        "<center>\n",
        "<img src='https://github.com/AlexanderAdrianVicenteJimenez/CC-Practica-3/blob/main/src/imagen_2022-02-11_180248.png?raw=true' />\n",
        "</center>\n",
        "</figure>\n",
        "\n",
        "En el gráfico podemos observar tres funciones con distina complejidad (lineal,cuadrática,logaritmica), mientras que la complejidad cuadrática sube, la logarítimica crece en número de operaciones de una forma muy lenta apenas una operación más por cada vez que se multiplica por 10 los datos de entrada.\n",
        "\n",
        "Por lo que la complejidad logarítmica es muy eficiente, no tanto como la constante, pero mas eficiente que la lineal y muchas mas eficiente que la cuadrática o cualquier polinomial.\n",
        "\n",
        "La búsqueda binaria tiene un orden de complejidad de O(log n), debido a que:\n",
        "<figure>\n",
        "<center>\n",
        "<img src='https://raw.githubusercontent.com/AlexanderAdrianVicenteJimenez/CC-Practica-3/0ebab4445417dd5c767a93c27117961d7a9f0f99/src/imagen_2022-02-11_181115.png' />\n",
        "</center>\n",
        "</figure>\n",
        "\n",
        "\n",
        "El siguiente algoritmo realiza una búsqueda Binaria."
      ],
      "metadata": {
        "id": "Ecdq6HJ15yw9"
      }
    },
    {
      "cell_type": "code",
      "source": [
        "datos=[2, 3, 5, 6, 8, 11, 12, 15, 17, 18, 21, 23, 24, 29, 30]\n",
        "buscado = 23\n",
        "def busqueda_binaria (lista, elemento):\n",
        "  inicio = 0\n",
        "  final = len (lista)-1\n",
        "\n",
        "  while inicio <= final:\n",
        "    medio =(inicio + final) // 2\n",
        "    if lista[medio] == elemento:\n",
        "         return True\n",
        "    elif lista[medio] < elemento:\n",
        "        inicio = medio + 1\n",
        "    elif lista[medio] > elemento:\n",
        "        final = medio - 1\n",
        "  return False\n",
        "print(busqueda_binaria (datos, buscado))"
      ],
      "metadata": {
        "colab": {
          "base_uri": "https://localhost:8080/"
        },
        "id": "24H2EPVBAqEC",
        "outputId": "5ee83086-316a-4e5b-a7a7-cad4f2e43a4f"
      },
      "execution_count": 37,
      "outputs": [
        {
          "output_type": "stream",
          "name": "stdout",
          "text": [
            "True\n"
          ]
        }
      ]
    },
    {
      "cell_type": "markdown",
      "source": [
        "###**Realizando Búsquedas**\n",
        "\n",
        "El algoritmo crea un censo de población."
      ],
      "metadata": {
        "id": "UiiwWegPEAuo"
      }
    },
    {
      "cell_type": "code",
      "source": [
        "import random\n",
        "censo = []\n",
        "alfabeto = \"ABCDEFGIJAEIOULMNOPRSTUAEIOU\"\n",
        "numero = 0\n",
        "print(\"Creando censo ...\")\n",
        "for i in range (500_000):\n",
        "\n",
        "  aumento = random.randint(1,2)\n",
        "  numero += aumento\n",
        "\n",
        "  letras = random.sample (alfabeto, 5)\n",
        "  nombre = \"\".join(letras)\n",
        "\n",
        "  edad = random.randint (18, 99)\n",
        "\n",
        "  impuestos = random.choice ((True, True, True, False))\n",
        "\n",
        "  censo.append( [numero, nombre, edad, impuestos])\n",
        "\n",
        "  if len(censo) %100_00 ==0:\n",
        "    print(\"Creados\",len(censo),\"registros\")\n",
        "\n",
        "print(\"Censo creado.\")\n",
        "print(\"Último Registro:\", censo[-1])\n",
        "\n",
        "def busqueda_numero (lista, elemento):\n",
        "\n",
        "#Busca registros por número. Búsqueda binaria\n",
        "\n",
        "  inicio = 0\n",
        "  final = len (lista) - 1 \n",
        "  while inicio <= final:\n",
        "    medio = (inicio + final) // 2\n",
        "    if lista[medio] [0] == elemento:\n",
        "      return lista[medio]\n",
        "    elif lista[medio] [0] < elemento:\n",
        "      inicio = medio + 1\n",
        "    elif lista[medio] [0] > elemento:\n",
        "      final = medio-1\n",
        "  return None\n",
        "\n",
        "def busqueda_nombre (lista, elemento):\n",
        "#Busca registros por nombre. Búsqueda lineal\n",
        "\n",
        "  encontrados = []\n",
        "\n",
        "  for registro in lista:\n",
        "    if registro[1] == elemento:\n",
        "      encontrados .append(registro)\n",
        "  if len(encontrados) == 0:\n",
        "    return None\n",
        "  else:\n",
        "    return encontrados\n",
        "\n",
        "\n",
        "def muestra_registro (registro):\n",
        "\n",
        "  if registro == None:\n",
        "    print(\"No existe registro con ese dato\")\n",
        "  else:\n",
        "    print(\"------------------------\")\n",
        "    print(\"Número:\", registro[0])\n",
        "    print(\"Nombre:\", registro[1])\n",
        "    print(\"Edad:\", registro [2])\n",
        "    print(\"Impuestos:\", registro [3])\n",
        "\n",
        "def menu():\n",
        "  print(\"-------------------------\")\n",
        "  print(\" - CENSO DE POBLACIÓN -\")\n",
        "  print(\"-------------------------\")\n",
        "  print(\"1. Buscar por número\")\n",
        "  print(\"2. Buscar por nombre\")\n",
        "  print(\"3. Salir\")\n",
        "  opcion = \"\"\n",
        "  while opcion not in (\"1\", \"2\", \"3\"):\n",
        "    opcion = input(\"--> \")\n",
        "  return opcion\n",
        "\n",
        "while True:\n",
        "\n",
        "  op = menu()\n",
        "\n",
        "  if op == \"1\":\n",
        "      try:\n",
        "        numero = int(input (\"Introduce número: \"))\n",
        "      except ValueError:\n",
        "        print(\"Introduce un número entero\")\n",
        "      else:\n",
        "        registro = busqueda_numero (censo, numero)\n",
        "        muestra_registro(registro)\n",
        "\n",
        "  elif op == \"2\":\n",
        "      nombre = input(\"Introduce nombre: \").upper()\n",
        "      registros=busqueda_nombre(censo, nombre)\n",
        "      if registros == None:\n",
        "        print(\"No existe registro con ese dato\")\n",
        "      else:\n",
        "        for registro in registros:\n",
        "          muestra_registro (registro)\n",
        "\n",
        "  elif op == \"3\":\n",
        "      break"
      ],
      "metadata": {
        "colab": {
          "base_uri": "https://localhost:8080/"
        },
        "id": "08EYemJyEBea",
        "outputId": "fb1bd0c9-db5d-46e9-c39e-f98f93607a15"
      },
      "execution_count": 41,
      "outputs": [
        {
          "name": "stdout",
          "output_type": "stream",
          "text": [
            "Creando censo ...\n",
            "Creados 10000 registros\n",
            "Creados 20000 registros\n",
            "Creados 30000 registros\n",
            "Creados 40000 registros\n",
            "Creados 50000 registros\n",
            "Creados 60000 registros\n",
            "Creados 70000 registros\n",
            "Creados 80000 registros\n",
            "Creados 90000 registros\n",
            "Creados 100000 registros\n",
            "Creados 110000 registros\n",
            "Creados 120000 registros\n",
            "Creados 130000 registros\n",
            "Creados 140000 registros\n",
            "Creados 150000 registros\n",
            "Creados 160000 registros\n",
            "Creados 170000 registros\n",
            "Creados 180000 registros\n",
            "Creados 190000 registros\n",
            "Creados 200000 registros\n",
            "Creados 210000 registros\n",
            "Creados 220000 registros\n",
            "Creados 230000 registros\n",
            "Creados 240000 registros\n",
            "Creados 250000 registros\n",
            "Creados 260000 registros\n",
            "Creados 270000 registros\n",
            "Creados 280000 registros\n",
            "Creados 290000 registros\n",
            "Creados 300000 registros\n",
            "Creados 310000 registros\n",
            "Creados 320000 registros\n",
            "Creados 330000 registros\n",
            "Creados 340000 registros\n",
            "Creados 350000 registros\n",
            "Creados 360000 registros\n",
            "Creados 370000 registros\n",
            "Creados 380000 registros\n",
            "Creados 390000 registros\n",
            "Creados 400000 registros\n",
            "Creados 410000 registros\n",
            "Creados 420000 registros\n",
            "Creados 430000 registros\n",
            "Creados 440000 registros\n",
            "Creados 450000 registros\n",
            "Creados 460000 registros\n",
            "Creados 470000 registros\n",
            "Creados 480000 registros\n",
            "Creados 490000 registros\n",
            "Creados 500000 registros\n",
            "Censo creado.\n",
            "Último Registro: [749318, 'IIIPT', 37, True]\n",
            "-------------------------\n",
            " - CENSO DE POBLACIÓN -\n",
            "-------------------------\n",
            "1. Buscar por número\n",
            "2. Buscar por nombre\n",
            "3. Salir\n",
            "--> 1\n",
            "Introduce número: 5738829\n",
            "No existe registro con ese dato\n",
            "-------------------------\n",
            " - CENSO DE POBLACIÓN -\n",
            "-------------------------\n",
            "1. Buscar por número\n",
            "2. Buscar por nombre\n",
            "3. Salir\n",
            "--> 1\n",
            "Introduce número: 532641\n",
            "------------------------\n",
            "Número: 532641\n",
            "Nombre: IUPMG\n",
            "Edad: 21\n",
            "Impuestos: True\n",
            "-------------------------\n",
            " - CENSO DE POBLACIÓN -\n",
            "-------------------------\n",
            "1. Buscar por número\n",
            "2. Buscar por nombre\n",
            "3. Salir\n",
            "--> 2\n",
            "Introduce nombre: MARIA\n",
            "No existe registro con ese dato\n",
            "-------------------------\n",
            " - CENSO DE POBLACIÓN -\n",
            "-------------------------\n",
            "1. Buscar por número\n",
            "2. Buscar por nombre\n",
            "3. Salir\n",
            "--> PABLO\n",
            "--> 2\n",
            "Introduce nombre: OSCAR\n",
            "No existe registro con ese dato\n",
            "-------------------------\n",
            " - CENSO DE POBLACIÓN -\n",
            "-------------------------\n",
            "1. Buscar por número\n",
            "2. Buscar por nombre\n",
            "3. Salir\n",
            "--> 2\n",
            "Introduce nombre: JUAN\n",
            "No existe registro con ese dato\n",
            "-------------------------\n",
            " - CENSO DE POBLACIÓN -\n",
            "-------------------------\n",
            "1. Buscar por número\n",
            "2. Buscar por nombre\n",
            "3. Salir\n",
            "--> 2\n",
            "Introduce nombre: MARIA\n",
            "No existe registro con ese dato\n",
            "-------------------------\n",
            " - CENSO DE POBLACIÓN -\n",
            "-------------------------\n",
            "1. Buscar por número\n",
            "2. Buscar por nombre\n",
            "3. Salir\n",
            "--> 2\n",
            "Introduce nombre: MARCOS\n",
            "No existe registro con ese dato\n",
            "-------------------------\n",
            " - CENSO DE POBLACIÓN -\n",
            "-------------------------\n",
            "1. Buscar por número\n",
            "2. Buscar por nombre\n",
            "3. Salir\n",
            "--> 2\n",
            "Introduce nombre: IIIPT\n",
            "------------------------\n",
            "Número: 749318\n",
            "Nombre: IIIPT\n",
            "Edad: 37\n",
            "Impuestos: True\n",
            "-------------------------\n",
            " - CENSO DE POBLACIÓN -\n",
            "-------------------------\n",
            "1. Buscar por número\n",
            "2. Buscar por nombre\n",
            "3. Salir\n",
            "--> 3\n"
          ]
        }
      ]
    }
  ]
}